{
  "cells": [
    {
      "cell_type": "markdown",
      "metadata": {
        "id": "h00KmoOp9GSp"
      },
      "source": [
        "- fastapi는 무엇이고, 언제 사용을 하는지등 기본적인 이론도 같이 공부하면 좋을 것 같습니다.\n",
        "  - FastAPI , uvicorn , ..."
      ]
    },
    {
      "cell_type": "markdown",
      "metadata": {
        "id": "vrEoPB7rbhsW"
      },
      "source": [
        "### 01. 필요한 라이브러리 설치"
      ]
    },
    {
      "cell_type": "code",
      "execution_count": 1,
      "metadata": {
        "colab": {
          "background_save": true,
          "base_uri": "https://localhost:8080/"
        },
        "id": "-pgTUQ-gbkVs",
        "outputId": "dc55c2c6-af23-4790-e758-36cec875ebdc"
      },
      "outputs": [
        {
          "name": "stderr",
          "output_type": "stream",
          "text": [
            "\n",
            "[notice] A new release of pip is available: 24.1.1 -> 24.2\n",
            "[notice] To update, run: python.exe -m pip install --upgrade pip\n",
            "\n",
            "[notice] A new release of pip is available: 24.1.1 -> 24.2\n",
            "[notice] To update, run: python.exe -m pip install --upgrade pip\n"
          ]
        },
        {
          "name": "stdout",
          "output_type": "stream",
          "text": [
            "Requirement already satisfied: torch in c:\\users\\piano\\anaconda3\\envs\\hyojung_2015479\\lib\\site-packages (2.3.1+cu121)\n",
            "Requirement already satisfied: filelock in c:\\users\\piano\\anaconda3\\envs\\hyojung_2015479\\lib\\site-packages (from torch) (3.14.0)\n",
            "Requirement already satisfied: typing-extensions>=4.8.0 in c:\\users\\piano\\anaconda3\\envs\\hyojung_2015479\\lib\\site-packages (from torch) (4.11.0)\n",
            "Requirement already satisfied: sympy in c:\\users\\piano\\anaconda3\\envs\\hyojung_2015479\\lib\\site-packages (from torch) (1.12.1)\n",
            "Requirement already satisfied: networkx in c:\\users\\piano\\anaconda3\\envs\\hyojung_2015479\\lib\\site-packages (from torch) (3.3)\n",
            "Requirement already satisfied: jinja2 in c:\\users\\piano\\anaconda3\\envs\\hyojung_2015479\\lib\\site-packages (from torch) (3.1.4)\n",
            "Requirement already satisfied: fsspec in c:\\users\\piano\\anaconda3\\envs\\hyojung_2015479\\lib\\site-packages (from torch) (2024.6.1)\n",
            "Requirement already satisfied: mkl<=2021.4.0,>=2021.1.1 in c:\\users\\piano\\anaconda3\\envs\\hyojung_2015479\\lib\\site-packages (from torch) (2021.4.0)\n",
            "Requirement already satisfied: intel-openmp==2021.* in c:\\users\\piano\\anaconda3\\envs\\hyojung_2015479\\lib\\site-packages (from mkl<=2021.4.0,>=2021.1.1->torch) (2021.4.0)\n",
            "Requirement already satisfied: tbb==2021.* in c:\\users\\piano\\anaconda3\\envs\\hyojung_2015479\\lib\\site-packages (from mkl<=2021.4.0,>=2021.1.1->torch) (2021.13.0)\n",
            "Requirement already satisfied: MarkupSafe>=2.0 in c:\\users\\piano\\anaconda3\\envs\\hyojung_2015479\\lib\\site-packages (from jinja2->torch) (2.1.5)\n",
            "Requirement already satisfied: mpmath<1.4.0,>=1.1.0 in c:\\users\\piano\\anaconda3\\envs\\hyojung_2015479\\lib\\site-packages (from sympy->torch) (1.3.0)\n"
          ]
        },
        {
          "name": "stderr",
          "output_type": "stream",
          "text": [
            "\n",
            "[notice] A new release of pip is available: 24.1.1 -> 24.2\n",
            "[notice] To update, run: python.exe -m pip install --upgrade pip\n"
          ]
        },
        {
          "name": "stdout",
          "output_type": "stream",
          "text": [
            "Collecting python-multipart\n",
            "  Downloading python_multipart-0.0.10-py3-none-any.whl.metadata (1.9 kB)\n",
            "Downloading python_multipart-0.0.10-py3-none-any.whl (22 kB)\n",
            "Installing collected packages: python-multipart\n",
            "Successfully installed python-multipart-0.0.10\n"
          ]
        },
        {
          "name": "stderr",
          "output_type": "stream",
          "text": [
            "\n",
            "[notice] A new release of pip is available: 24.1.1 -> 24.2\n",
            "[notice] To update, run: python.exe -m pip install --upgrade pip\n"
          ]
        },
        {
          "name": "stdout",
          "output_type": "stream",
          "text": [
            "Requirement already satisfied: fastapi in c:\\users\\piano\\anaconda3\\envs\\hyojung_2015479\\lib\\site-packages (0.115.0)\n",
            "Requirement already satisfied: nest-asyncio in c:\\users\\piano\\appdata\\roaming\\python\\python312\\site-packages (1.6.0)\n",
            "Collecting pyngrok\n",
            "  Downloading pyngrok-7.2.0-py3-none-any.whl.metadata (7.4 kB)\n",
            "Requirement already satisfied: uvicorn in c:\\users\\piano\\anaconda3\\envs\\hyojung_2015479\\lib\\site-packages (0.30.6)\n",
            "Requirement already satisfied: starlette<0.39.0,>=0.37.2 in c:\\users\\piano\\anaconda3\\envs\\hyojung_2015479\\lib\\site-packages (from fastapi) (0.38.6)\n",
            "Requirement already satisfied: pydantic!=1.8,!=1.8.1,!=2.0.0,!=2.0.1,!=2.1.0,<3.0.0,>=1.7.4 in c:\\users\\piano\\anaconda3\\envs\\hyojung_2015479\\lib\\site-packages (from fastapi) (2.9.2)\n",
            "Requirement already satisfied: typing-extensions>=4.8.0 in c:\\users\\piano\\anaconda3\\envs\\hyojung_2015479\\lib\\site-packages (from fastapi) (4.11.0)\n",
            "Requirement already satisfied: PyYAML>=5.1 in c:\\users\\piano\\anaconda3\\envs\\hyojung_2015479\\lib\\site-packages (from pyngrok) (6.0.1)\n",
            "Requirement already satisfied: click>=7.0 in c:\\users\\piano\\anaconda3\\envs\\hyojung_2015479\\lib\\site-packages (from uvicorn) (8.1.7)\n",
            "Requirement already satisfied: h11>=0.8 in c:\\users\\piano\\anaconda3\\envs\\hyojung_2015479\\lib\\site-packages (from uvicorn) (0.14.0)\n",
            "Requirement already satisfied: colorama in c:\\users\\piano\\appdata\\roaming\\python\\python312\\site-packages (from click>=7.0->uvicorn) (0.4.6)\n",
            "Requirement already satisfied: annotated-types>=0.6.0 in c:\\users\\piano\\anaconda3\\envs\\hyojung_2015479\\lib\\site-packages (from pydantic!=1.8,!=1.8.1,!=2.0.0,!=2.0.1,!=2.1.0,<3.0.0,>=1.7.4->fastapi) (0.7.0)\n",
            "Requirement already satisfied: pydantic-core==2.23.4 in c:\\users\\piano\\anaconda3\\envs\\hyojung_2015479\\lib\\site-packages (from pydantic!=1.8,!=1.8.1,!=2.0.0,!=2.0.1,!=2.1.0,<3.0.0,>=1.7.4->fastapi) (2.23.4)\n",
            "Requirement already satisfied: anyio<5,>=3.4.0 in c:\\users\\piano\\anaconda3\\envs\\hyojung_2015479\\lib\\site-packages (from starlette<0.39.0,>=0.37.2->fastapi) (4.6.0)\n",
            "Requirement already satisfied: idna>=2.8 in c:\\users\\piano\\anaconda3\\envs\\hyojung_2015479\\lib\\site-packages (from anyio<5,>=3.4.0->starlette<0.39.0,>=0.37.2->fastapi) (3.6)\n",
            "Requirement already satisfied: sniffio>=1.1 in c:\\users\\piano\\anaconda3\\envs\\hyojung_2015479\\lib\\site-packages (from anyio<5,>=3.4.0->starlette<0.39.0,>=0.37.2->fastapi) (1.3.1)\n",
            "Downloading pyngrok-7.2.0-py3-none-any.whl (22 kB)\n",
            "Installing collected packages: pyngrok\n",
            "Successfully installed pyngrok-7.2.0\n"
          ]
        },
        {
          "name": "stderr",
          "output_type": "stream",
          "text": [
            "\n",
            "[notice] A new release of pip is available: 24.1.1 -> 24.2\n",
            "[notice] To update, run: python.exe -m pip install --upgrade pip\n"
          ]
        }
      ],
      "source": [
        "!pip install FastAPI -q\n",
        "!pip install uvicorn -q\n",
        "!pip install torch\n",
        "!pip install python-multipart\n",
        "!pip install fastapi nest-asyncio pyngrok uvicorn"
      ]
    },
    {
      "cell_type": "markdown",
      "metadata": {
        "id": "OOa0k32abtEb"
      },
      "source": [
        "### 02. FastAPI 실행"
      ]
    },
    {
      "cell_type": "markdown",
      "metadata": {
        "id": "J0mVzUG-0g-V"
      },
      "source": [
        "- 학습때 설치했던 yolov5 폴더가 있는 경로로 이동해주세요."
      ]
    },
    {
      "cell_type": "code",
      "execution_count": 12,
      "metadata": {},
      "outputs": [
        {
          "data": {
            "text/plain": [
              "'A:\\\\commento\\\\2_model'"
            ]
          },
          "execution_count": 12,
          "metadata": {},
          "output_type": "execute_result"
        }
      ],
      "source": [
        "import os\n",
        "os.getcwd()"
      ]
    },
    {
      "cell_type": "code",
      "execution_count": 13,
      "metadata": {
        "colab": {
          "background_save": true,
          "base_uri": "https://localhost:8080/"
        },
        "id": "co6tfOuX0GEv",
        "outputId": "492e26f2-7cb2-4ff0-b5c5-566fd637d9a3"
      },
      "outputs": [
        {
          "name": "stdout",
          "output_type": "stream",
          "text": [
            "A:\\commento\\2_model\n"
          ]
        }
      ],
      "source": [
        "cd A:\\commento\\2_model\n"
      ]
    },
    {
      "cell_type": "markdown",
      "metadata": {
        "id": "3szjjy6PHdcC"
      },
      "source": [
        "- 학습한 모델을 로드해줍니다."
      ]
    },
    {
      "cell_type": "code",
      "execution_count": 5,
      "metadata": {
        "colab": {
          "base_uri": "https://localhost:8080/"
        },
        "id": "tt_9tmwOd4dZ",
        "outputId": "20809f2c-989b-46fa-fc51-bacfe6a5bec5"
      },
      "outputs": [
        {
          "data": {
            "text/plain": [
              "'\\n# ngrok 인증 토큰 설정\\nauthtoken = \"2mYsZHJc2N48scwLSCgcje51ehv_86wfXdYxtFkQAPrryCWy\" # 자신의 인증 토큰으로 변경하세요\\nngrok.set_auth_token(authtoken)\\n'"
            ]
          },
          "execution_count": 5,
          "metadata": {},
          "output_type": "execute_result"
        }
      ],
      "source": [
        "from ultralytics import YOLO\n",
        "import os\n",
        "import torch\n",
        "import uvicorn\n",
        "import nest_asyncio\n",
        "\n",
        "from PIL import Image\n",
        "from io import BytesIO\n",
        "from pyngrok import ngrok\n",
        "from torchvision import transforms\n",
        "from fastapi import FastAPI, File, UploadFile, Request\n",
        "from fastapi.middleware.cors import CORSMiddleware\n",
        "import time\n",
        "\n",
        "\n",
        "# FastAPI 앱 생성\n",
        "app = FastAPI()\n",
        "\n",
        "# YOLOv5 모델 로드\n",
        "model = YOLO(r\"A:\\commento\\2_model\\runs\\detect\\train\\weights\\best.pt\")\n",
        "model.conf = 0.5  # 신뢰도 임계값 설정\n",
        "\n",
        "# CORS 허용 설정\n",
        "app.add_middleware(\n",
        "    CORSMiddleware,\n",
        "    allow_origins=[\"*\"],  # 모든 도메인 허용 (개발용)\n",
        "    allow_credentials=True,\n",
        "    allow_methods=[\"*\"],  # 모든 HTTP 메소드 허용\n",
        "    allow_headers=[\"*\"],  # 모든 HTTP 헤더 허용\n",
        ")\n",
        "\n",
        "'''\n",
        "# ngrok 인증 토큰 설정\n",
        "authtoken = \"2mYsZHJc2N48scwLSCgcje51ehv_86wfXdYxtFkQAPrryCWy\" # 자신의 인증 토큰으로 변경하세요\n",
        "ngrok.set_auth_token(authtoken)\n",
        "'''"
      ]
    },
    {
      "cell_type": "markdown",
      "metadata": {
        "id": "qVD6ykzkHhW0"
      },
      "source": [
        "### fastapi 실행 함수 구현\n",
        "- Input : 이미지 경로\n",
        "- Output : 자유롭게 아이디어를 내서 결과를 출력시켜주세요.\n",
        "  - 차량 정체 문제를 파악하기 위한 값으로 출력해주세요.\n",
        "  - 예를 들어, 차량 개수 파악 / 차량 전체 면적 또는 비율 등 다양한 아이디어를 생각해서 구현해주세요."
      ]
    },
    {
      "cell_type": "markdown",
      "metadata": {},
      "source": [
        "#### 내가 처음에 짠 코드"
      ]
    },
    {
      "cell_type": "code",
      "execution_count": 42,
      "metadata": {
        "colab": {
          "base_uri": "https://localhost:8080/"
        },
        "id": "4wDxrTcg0yZv",
        "outputId": "9f8c067d-0dd5-4d68-ed79-ebc862c17582"
      },
      "outputs": [
        {
          "name": "stdout",
          "output_type": "stream",
          "text": [
            "Public URL: NgrokTunnel: \"https://4f87-211-178-82-102.ngrok-free.app\" -> \"http://localhost:8000\"\n"
          ]
        },
        {
          "name": "stderr",
          "output_type": "stream",
          "text": [
            "INFO:     Started server process [9136]\n",
            "INFO:     Waiting for application startup.\n",
            "INFO:     Application startup complete.\n",
            "INFO:     Uvicorn running on http://0.0.0.0:8000 (Press CTRL+C to quit)\n"
          ]
        },
        {
          "name": "stdout",
          "output_type": "stream",
          "text": [
            "INFO:     211.178.82.102:0 - \"GET / HTTP/1.1\" 404 Not Found\n",
            "INFO:     211.178.82.102:0 - \"GET /favicon.ico HTTP/1.1\" 404 Not Found\n",
            "INFO:     211.178.82.102:0 - \"GET /docs HTTP/1.1\" 200 OK\n",
            "INFO:     211.178.82.102:0 - \"GET /openapi.json HTTP/1.1\" 200 OK\n",
            "INFO:     211.178.82.102:0 - \"POST /detect HTTP/1.1\" 200 OK\n",
            "INFO:     211.178.82.102:0 - \"GET /image HTTP/1.1\" 200 OK\n"
          ]
        },
        {
          "name": "stderr",
          "output_type": "stream",
          "text": [
            "INFO:     Shutting down\n",
            "INFO:     Waiting for application shutdown.\n",
            "INFO:     Application shutdown complete.\n",
            "INFO:     Finished server process [9136]\n"
          ]
        }
      ],
      "source": [
        "from PIL import ImageDraw\n",
        "from fastapi.responses import FileResponse\n",
        "from fastapi.responses import StreamingResponse\n",
        "\n",
        "app = FastAPI()\n",
        "\n",
        "# 전역 변수로 이미지 데이터를 저장할 공간\n",
        "image_with_boxes_bytes = None\n",
        "\n",
        "# 바운딩 박스를 그리는 함수\n",
        "def draw_boxes(image, detections_list):\n",
        "    draw = ImageDraw.Draw(image)\n",
        "    for detection in detections_list:\n",
        "        # 바운딩 박스 그리기\n",
        "        draw.rectangle([(detection[\"x1\"], detection[\"y1\"]),\n",
        "                        (detection[\"x2\"], detection[\"y2\"])], outline=\"red\", width=3)\n",
        "        # 클래스 라벨 추가\n",
        "        draw.text((detection[\"x1\"], detection[\"y1\"] - 10), f\"Class: {detection['class']}\", fill=\"red\")\n",
        "    return image\n",
        "\n",
        "# API에서 추론 후 시각화하는 코드\n",
        "@app.post('/detect')\n",
        "async def detect_api(file: UploadFile = File(...)):\n",
        "\n",
        "    # 전역 변수를 업데이트할 수 있도록 global 선언\n",
        "    global image_with_boxes_bytes\n",
        "\n",
        "    # 비동기적으로 파일 읽기\n",
        "    image_bytes = await file.read()\n",
        "\n",
        "    try:\n",
        "        # RGB 형태로 이미지 열기\n",
        "        image = Image.open(BytesIO(image_bytes)).convert(\"RGB\")\n",
        "\n",
        "        # YOLOv5 모델 추론\n",
        "        results = model(image)\n",
        "\n",
        "        # 결과 처리\n",
        "        detections_list = []\n",
        "        df = results.pandas().xyxy[0]\n",
        "\n",
        "        for index, row in df.iterrows():\n",
        "            detections_list.append({\n",
        "                \"x1\": float(row['xmin']),\n",
        "                \"y1\": float(row['ymin']),\n",
        "                \"x2\": float(row['xmax']),\n",
        "                \"y2\": float(row['ymax']),\n",
        "                \"confidence\": float(row['confidence']),\n",
        "                \"class\": int(row['class'])\n",
        "            })\n",
        "\n",
        "        # 감지된 바운딩 박스(차량)의 개수\n",
        "        vehicle_count = len(detections_list)\n",
        "\n",
        "        # 바운딩 박스를 그린 이미지 반환\n",
        "        image_with_boxes = draw_boxes(image, detections_list)\n",
        "        \n",
        "        # 메모리에서 이미지를 바이너리 형태로 저장\n",
        "        image_with_boxes_bytes = BytesIO()\n",
        "        image_with_boxes.save(image_with_boxes_bytes, format='JPEG')\n",
        "        image_with_boxes_bytes.seek(0)\n",
        "\n",
        "        # 이미지 파일을 /image로 요청할 수 있도록 준비\n",
        "        return {\n",
        "            \"vehicle_count\": vehicle_count,\n",
        "            \"detections\": detections_list,\n",
        "            \"image_url\": \"/image\"\n",
        "        }\n",
        "\n",
        "    except Exception as e:\n",
        "        return {\"error\": \"이미지 처리 실패\", \"details\": str(e)}\n",
        "\n",
        "# 이미지 반환 경로\n",
        "@app.get(\"/image\")\n",
        "async def get_image():\n",
        "    global image_with_boxes_bytes\n",
        "\n",
        "    if image_with_boxes_bytes is None:\n",
        "        return {\"error\": \"이미지 파일이 존재하지 않습니다. 먼저 /detect API를 호출하세요.\"}\n",
        "    \n",
        "    # 메모리에 저장된 이미지를 반환\n",
        "    image_with_boxes_bytes.seek(0)  # 이미지를 읽기 위해 처음으로 되돌림\n",
        "    return StreamingResponse(image_with_boxes_bytes, media_type=\"image/jpeg\")\n",
        "\n",
        "# ngrok 터널 설정\n",
        "port = 8000\n",
        "public_url = ngrok.connect(port)\n",
        "print(f\"Public URL: {public_url}\")\n",
        "\n",
        "# colab에서 비동기 실행 문제 해결\n",
        "nest_asyncio.apply()\n",
        "\n",
        "# FastAPI 서버 실행\n",
        "uvicorn.run(app, host=\"0.0.0.0\", port=port)\n",
        "\n"
      ]
    },
    {
      "cell_type": "markdown",
      "metadata": {},
      "source": [
        "taskkill /F /IM ngrok.exe"
      ]
    },
    {
      "cell_type": "markdown",
      "metadata": {},
      "source": [
        "#### 멘토님 피드백 반영한 코드"
      ]
    },
    {
      "cell_type": "code",
      "execution_count": 7,
      "metadata": {},
      "outputs": [
        {
          "name": "stderr",
          "output_type": "stream",
          "text": [
            "INFO:     Started server process [23976]\n",
            "INFO:     Waiting for application startup.\n",
            "INFO:     Application startup complete.\n",
            "INFO:     Uvicorn running on http://localhost:8000 (Press CTRL+C to quit)\n"
          ]
        },
        {
          "name": "stdout",
          "output_type": "stream",
          "text": [
            "INFO:     ::1:54631 - \"GET /docs HTTP/1.1\" 200 OK\n",
            "INFO:     ::1:54631 - \"GET /openapi.json HTTP/1.1\" 200 OK\n",
            "\n",
            "0: 128x224 (no detections), 17.0ms\n",
            "Speed: 2.0ms preprocess, 17.0ms inference, 2.0ms postprocess per image at shape (1, 3, 128, 224)\n",
            "INFO:     ::1:54636 - \"POST /detect HTTP/1.1\" 200 OK\n"
          ]
        },
        {
          "name": "stderr",
          "output_type": "stream",
          "text": [
            "INFO:     Shutting down\n",
            "INFO:     Waiting for application shutdown.\n",
            "INFO:     Application shutdown complete.\n",
            "INFO:     Finished server process [23976]\n"
          ]
        }
      ],
      "source": [
        "from fastapi import FastAPI, UploadFile, File\n",
        "from fastapi.responses import StreamingResponse\n",
        "from PIL import Image, ImageDraw\n",
        "from io import BytesIO\n",
        "import uvicorn\n",
        "import nest_asyncio\n",
        "import torch\n",
        "import pandas as pd\n",
        "# from pyngrok import ngrok\n",
        "\n",
        "app = FastAPI()\n",
        "\n",
        "'''전역 상태 관리 (이미지 바이트 데이터를 저장)\n",
        "- 이미지를 보여주기 위해 전역변수를 사용하여 저장하는 부분에서 좋은 접근이었던 것 같습니다!\n",
        "- 하지만, 전역 변수를 최소화하고 필요한 경우는 클래스나 모듈 상태로 관리하는것이 추후 코드의 규모가 커질 경우 관리하기 용이합니다.\n",
        "\n",
        "그리고, 결과 이미지를 화면에 출력할때도 여러 방법이 있을 것 같습니다. \n",
        "- 첫번째로는 추론된 결과 이미지를 물리적으로 저장해서 불러오는 방식\n",
        "- 두번째로는 추론된 결과 이미지를 전역변수를 사용하여 메모리상에 저장 후 불러오는 방식 \n",
        "실무에서는 첫번째 방식으로, 추롣된 결과를 내부 DB에 쌓아 불러오는 방식으로 많이 사용되곤 합니다!\n",
        "'''\n",
        "class ImageData:\n",
        "    def __init__(self):\n",
        "        self.image_with_boxes_bytes = None\n",
        "\n",
        "image_data = ImageData()\n",
        "\n",
        "# 바운딩 박스를 그리는 함수\n",
        "def draw_boxes(image, detections_list):\n",
        "    draw = ImageDraw.Draw(image)\n",
        "    for detection in detections_list:\n",
        "        # 바운딩 박스 그리기\n",
        "        draw.rectangle([(detection[\"x1\"], detection[\"y1\"]),\n",
        "                        (detection[\"x2\"], detection[\"y2\"])], outline=\"red\", width=3)\n",
        "        # 클래스 라벨 추가\n",
        "        draw.text((detection[\"x1\"], detection[\"y1\"] - 10), f\"Class: {detection['class']}\", fill=\"red\")\n",
        "    return image\n",
        "\n",
        "'''YOLO 모델 추론 함수\n",
        "- YOLO 모델 추론과 바운딩 박스를 그리는 부분을 별도의 함수(yolo_inference)로 분리하면서 함수의 기능을 좀 더 명확하게 구분 가능합니다.\n",
        "- YOLOv5 기반 코드\n",
        "def yolo_inference(image):\n",
        "    results = model(image)\n",
        "    df = results.pandas().xyxy[0]\n",
        "    \n",
        "    detections_list = [\n",
        "        {\n",
        "            \"x1\": float(row['xmin']),\n",
        "            \"y1\": float(row['ymin']),\n",
        "            \"x2\": float(row['xmax']),\n",
        "            \"y2\": float(row['ymax']),\n",
        "            \"confidence\": float(row['confidence']),\n",
        "            \"class\": int(row['class'])\n",
        "        }\n",
        "        for _, row in df.iterrows()\n",
        "    ]\n",
        "    \n",
        "    return detections_list, len(detections_list)\n",
        "'''\n",
        "# YOLOv8 모델 추론 함수 수정\n",
        "# YOLOv8에서는 pandas() 메서드가 지원되지 않고, \n",
        "# 대신 **results.boxes**를 사용하여 바운딩 박스의 좌표 및 기타 정보를 추출해야 함 / 리스트 형태\n",
        "def yolo_inference(image):\n",
        "    # YOLOv8 모델 추론\n",
        "    results = model(image)\n",
        "    \n",
        "    # 결과를 리스트로 처리\n",
        "    detections_list = []\n",
        "    for result in results:\n",
        "        for box in result.boxes:\n",
        "            detections_list.append({\n",
        "                \"x1\": float(box.xyxy[0][0]),  # 바운딩 박스 좌상단 x 좌표\n",
        "                \"y1\": float(box.xyxy[0][1]),  # 바운딩 박스 좌상단 y 좌표\n",
        "                \"x2\": float(box.xyxy[0][2]),  # 바운딩 박스 우하단 x 좌표\n",
        "                \"y2\": float(box.xyxy[0][3]),  # 바운딩 박스 우하단 y 좌표\n",
        "                \"confidence\": float(box.conf[0]),  # 신뢰도\n",
        "                \"class\": int(box.cls[0])  # 클래스 라벨\n",
        "            })\n",
        "    \n",
        "    vehicle_count = len(detections_list)\n",
        "    return detections_list, vehicle_count\n",
        "\n",
        "# 바운딩 박스 면적을 계산하는 함수\n",
        "def calculate_vehicle_area(detections_list):\n",
        "    vehicle_area = 0\n",
        "    for detection in detections_list:\n",
        "        # 바운딩 박스의 넓이 계산 (width * height)\n",
        "        width = detection[\"x2\"] - detection[\"x1\"]\n",
        "        height = detection[\"y2\"] - detection[\"y1\"]\n",
        "        vehicle_area += width * height\n",
        "    return vehicle_area\n",
        "\n",
        "# 감지된 이미지 반환 및 바운딩 박스 그리기 + 도로 면적 대비 차량 면적 비율 계산\n",
        "@app.post('/detect')\n",
        "async def detect_api(file: UploadFile = File(...)):\n",
        "    try:\n",
        "        # 이미지 파일을 비동기적으로 읽기\n",
        "        image_bytes = await file.read()\n",
        "        image = Image.open(BytesIO(image_bytes)).convert(\"RGB\")\n",
        "        \n",
        "        # YOLOv5 모델 추론\n",
        "        detections_list, vehicle_count = yolo_inference(image)\n",
        "\n",
        "        # 바운딩 박스가 그려진 이미지 생성\n",
        "        image_with_boxes = draw_boxes(image, detections_list)\n",
        "        \n",
        "        # 차량 면적 계산\n",
        "        vehicle_area = calculate_vehicle_area(detections_list)\n",
        "        \n",
        "        # 이미지의 전체 면적 (도로 면적) 계산\n",
        "        total_area = image.width * image.height\n",
        "        \n",
        "        # 차량 면적 비율 계산\n",
        "        congestion_ratio = vehicle_area / total_area\n",
        "\n",
        "        # 이미지 데이터를 메모리에 저장\n",
        "        image_data.image_with_boxes_bytes = BytesIO()\n",
        "        image_with_boxes.save(image_data.image_with_boxes_bytes, format='JPEG')\n",
        "        image_data.image_with_boxes_bytes.seek(0)\n",
        "\n",
        "        # 차량 개수 및 도로 정체 정보 반환\n",
        "        return {\n",
        "            \"vehicle_count\": vehicle_count,\n",
        "            \"detections\": detections_list,\n",
        "            \"congestion_ratio\": congestion_ratio,  # 차량 면적 비율 추가\n",
        "            \"image_url\": \"/image\"\n",
        "        }\n",
        "\n",
        "    except Exception as e:\n",
        "        return {\"error\": \"이미지 처리 실패\", \"details\": str(e)}\n",
        "\n",
        "\n",
        "# 바운딩 박스를 그린 이미지 반환\n",
        "@app.get(\"/image\")\n",
        "async def get_image():\n",
        "    if image_data.image_with_boxes_bytes is None:\n",
        "        return {\"error\": \"이미지 파일이 존재하지 않습니다. 먼저 /detect API를 호출하세요.\"}\n",
        "    \n",
        "    image_data.image_with_boxes_bytes.seek(0)  # 이미지 포인터를 처음으로 되돌림\n",
        "    return StreamingResponse(image_data.image_with_boxes_bytes, media_type=\"image/jpeg\")\n",
        "\n",
        "@app.middleware(\"http\")\n",
        "async def add_process_time_header(request: Request, call_next):\n",
        "    start_time = time.time()\n",
        "    response = await call_next(request)\n",
        "    process_time = time.time() - start_time\n",
        "    response.headers[\"X-Response-Time\"] = str(process_time)\n",
        "    return response\n",
        "\n",
        "\n",
        "\n",
        "# Colab 또는 Jupyter Notebook에서 비동기 실행 문제 해결\n",
        "nest_asyncio.apply()\n",
        "\n",
        "# FastAPI 서버 실행\n",
        "if __name__ == \"__main__\":\n",
        "    uvicorn.run(app, host=\"localhost\", port=8000)\n",
        "\n",
        "# 주소 뒤에 /docs 붙이기\n"
      ]
    }
  ],
  "metadata": {
    "accelerator": "GPU",
    "colab": {
      "gpuType": "T4",
      "provenance": []
    },
    "kernelspec": {
      "display_name": "Python 3",
      "name": "python3"
    },
    "language_info": {
      "codemirror_mode": {
        "name": "ipython",
        "version": 3
      },
      "file_extension": ".py",
      "mimetype": "text/x-python",
      "name": "python",
      "nbconvert_exporter": "python",
      "pygments_lexer": "ipython3",
      "version": "3.12.2"
    }
  },
  "nbformat": 4,
  "nbformat_minor": 0
}
